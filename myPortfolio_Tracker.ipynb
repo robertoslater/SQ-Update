{
 "cells": [
  {
   "cell_type": "markdown",
   "metadata": {},
   "source": [
    "<h1>Portfolio Monitor</h1>\n",
    "<h2>Updated portfolio and stock market evaluation</h2>\n",
    "\n",
    "\n"
   ]
  },
  {
   "cell_type": "markdown",
   "metadata": {},
   "source": [
    "<h6>\n",
    "    <p>VERSION: 1.0</p>\n",
    "    <p>Stock-Monitor Update from Swissquote Transaction file</p>\n",
    "    <p>Roberto Schlatter</p>\n",
    "    <p>19-07-2021</p>\n",
    "</h6>"
   ]
  },
  {
   "cell_type": "markdown",
   "metadata": {},
   "source": [
    "<h3>\n",
    "Prerequisite\n",
    "</h3>"
   ]
  },
  {
   "cell_type": "code",
   "execution_count": 2,
   "metadata": {},
   "outputs": [],
   "source": [
    "import numpy as np #The Numpy numerical computing library\n",
    "import pandas as pd #The Pandas data science library\n",
    "import requests #The requests library for HTTP requests in Python\n",
    "import xlsxwriter #The XlsxWriter libarary for \n",
    "import math #The Python math module\n",
    "import datetime\n",
    "import pickle\n",
    "import os.path\n",
    "import os\n",
    "import csv\n",
    "#from googleapiclient.discovery import build\n",
    "#from google_auth_oauthlib.flow import InstalledAppFlow\n",
    "#from google.auth.transport.requests import Request\n",
    "#from google.protobuf import service\n"
   ]
  },
  {
   "cell_type": "markdown",
   "metadata": {},
   "source": [
    "<h3>\n",
    "Upload to Google Sheet Function\n",
    "</h3>"
   ]
  },
  {
   "cell_type": "code",
   "execution_count": 3,
   "metadata": {},
   "outputs": [],
   "source": [
    "def storeDataToGoogleSheet(SAMPLE_SPREADSHEET_ID_input, SAMPLE_RANGE_NAME, df_gold, sOrientation, bSingleValue):\n",
    "    def Create_Service(client_secret_file, api_service_name, api_version, *scopes):\n",
    "        global service\n",
    "        SCOPES = [scope for scope in scopes[0]]\n",
    "        #print(SCOPES)\n",
    "        cred = None\n",
    "\n",
    "        if os.path.exists('token_write.pickle'):\n",
    "            with open('token_write.pickle', 'rb') as token:\n",
    "                cred = pickle.load(token)\n",
    "\n",
    "        if not cred or not cred.valid:\n",
    "            if cred and cred.expired and cred.refresh_token:\n",
    "                cred.refresh(Request())\n",
    "            else:\n",
    "                flow = InstalledAppFlow.from_client_secrets_file(client_secret_file, SCOPES)\n",
    "                cred = flow.run_local_server()\n",
    "\n",
    "            with open('token_write.pickle', 'wb') as token:\n",
    "                pickle.dump(cred, token)\n",
    "\n",
    "        try:\n",
    "            service = build(api_service_name, api_version, credentials=cred)\n",
    "            print(api_service_name, 'service created successfully')\n",
    "            #return service\n",
    "        except Exception as e:\n",
    "            print(e)\n",
    "            #return None\n",
    "\n",
    "    # change 'my_json_file.json' by your downloaded JSON file: my_credentials.json\n",
    "    Create_Service('my_credentials.json', 'sheets', 'v4',['https://www.googleapis.com/auth/spreadsheets'])\n",
    "\n",
    "    if(bSingleValue):\n",
    "        def SingleValue_Export_Data_To_Sheets():\n",
    "            response_date = service.spreadsheets().values().update(\n",
    "                spreadsheetId=SAMPLE_SPREADSHEET_ID_input,\n",
    "                valueInputOption='RAW',\n",
    "                range=SAMPLE_RANGE_NAME,\n",
    "                body=dict(\n",
    "                    #Orientation: ROWS oder COLUMNS\n",
    "                    majorDimension=sOrientation,\n",
    "                    values=df_gold.T.reset_index().T.values.tolist())\n",
    "            ).execute()\n",
    "            print('Sheet successfully Updated')\n",
    "        SingleValue_Export_Data_To_Sheets()\n",
    "    else:\n",
    "        def Export_Data_To_Sheets():\n",
    "            response_date = service.spreadsheets().values().update(\n",
    "                spreadsheetId=SAMPLE_SPREADSHEET_ID_input,\n",
    "                valueInputOption='RAW',\n",
    "                range=SAMPLE_RANGE_NAME,\n",
    "                body=dict(\n",
    "                    #Orientation: ROWS oder COLUMNS\n",
    "                    majorDimension=sOrientation,\n",
    "                    values=df_gold.T.reset_index().T.values.tolist())\n",
    "            ).execute()\n",
    "            print('Sheet successfully Updated')\n",
    "        Export_Data_To_Sheets()"
   ]
  },
  {
   "cell_type": "markdown",
   "metadata": {},
   "source": [
    "  <h3>Pre Definition for Test run and final run</h3>"
   ]
  },
  {
   "cell_type": "code",
   "execution_count": 4,
   "metadata": {},
   "outputs": [],
   "source": [
    "sTestRun = False\n",
    "\n",
    "if sTestRun:\n",
    "    sGoogleSheet = \"17iBlVZySEFsqI9RjPR6hVrlD_QtQ-zc46bKuar0nFOk\"\n",
    "else:\n",
    "    sGoogleSheet = \"1RX2lJwZYWUO_sJUME1M9CsMFkGQNEqMCiY2Y6vCZjF0\""
   ]
  },
  {
   "cell_type": "markdown",
   "metadata": {},
   "source": [
    "<h3>Swissquote Transaction import</h3>"
   ]
  },
  {
   "cell_type": "code",
   "execution_count": 5,
   "metadata": {},
   "outputs": [
    {
     "data": {
      "text/html": [
       "<div>\n",
       "<style scoped>\n",
       "    .dataframe tbody tr th:only-of-type {\n",
       "        vertical-align: middle;\n",
       "    }\n",
       "\n",
       "    .dataframe tbody tr th {\n",
       "        vertical-align: top;\n",
       "    }\n",
       "\n",
       "    .dataframe thead th {\n",
       "        text-align: right;\n",
       "    }\n",
       "</style>\n",
       "<table border=\"1\" class=\"dataframe\">\n",
       "  <thead>\n",
       "    <tr style=\"text-align: right;\">\n",
       "      <th></th>\n",
       "      <th>Auftrag</th>\n",
       "      <th>Datum</th>\n",
       "      <th>Transaktionen</th>\n",
       "      <th>Symbol</th>\n",
       "      <th>Name</th>\n",
       "      <th>ISIN</th>\n",
       "      <th>Anzahl</th>\n",
       "      <th>Stueckpreis</th>\n",
       "      <th>Kosten</th>\n",
       "      <th>Aufgelaufene Zinsen</th>\n",
       "      <th>Nettobetrag</th>\n",
       "      <th>Waehrung Nettobetrag</th>\n",
       "      <th>Nettobetrag in der Waehrung des Kontos</th>\n",
       "      <th>Saldo</th>\n",
       "      <th>Waehrung</th>\n",
       "    </tr>\n",
       "  </thead>\n",
       "  <tbody>\n",
       "    <tr>\n",
       "      <th>0</th>\n",
       "      <td>2021-07-09 11:03:34</td>\n",
       "      <td>NaN</td>\n",
       "      <td>Buy</td>\n",
       "      <td>ADA</td>\n",
       "      <td>ADA</td>\n",
       "      <td>EX0X00ADA000</td>\n",
       "      <td>150.0</td>\n",
       "      <td>1.32</td>\n",
       "      <td>1.98</td>\n",
       "      <td>0</td>\n",
       "      <td>-199.98</td>\n",
       "      <td>USD</td>\n",
       "      <td>-199.98</td>\n",
       "      <td>27.55</td>\n",
       "      <td>USD</td>\n",
       "    </tr>\n",
       "    <tr>\n",
       "      <th>0</th>\n",
       "      <td>2021-07-05 11:22:08</td>\n",
       "      <td>NaN</td>\n",
       "      <td>Dividende</td>\n",
       "      <td>VWRL</td>\n",
       "      <td>Vanguard All World ETF Dist</td>\n",
       "      <td>IE00B3RBWM25</td>\n",
       "      <td>1.0</td>\n",
       "      <td>113.92</td>\n",
       "      <td>0.00</td>\n",
       "      <td>0</td>\n",
       "      <td>113.92</td>\n",
       "      <td>USD</td>\n",
       "      <td>113.92</td>\n",
       "      <td>227.53</td>\n",
       "      <td>USD</td>\n",
       "    </tr>\n",
       "    <tr>\n",
       "      <th>0</th>\n",
       "      <td>2021-07-01 13:07:48</td>\n",
       "      <td>NaN</td>\n",
       "      <td>Dividende</td>\n",
       "      <td>VFEM</td>\n",
       "      <td>Vanguard EM ETF Dist</td>\n",
       "      <td>IE00B3VVMM84</td>\n",
       "      <td>1.0</td>\n",
       "      <td>134.61</td>\n",
       "      <td>0.00</td>\n",
       "      <td>0</td>\n",
       "      <td>134.61</td>\n",
       "      <td>USD</td>\n",
       "      <td>134.61</td>\n",
       "      <td>113.61</td>\n",
       "      <td>USD</td>\n",
       "    </tr>\n",
       "    <tr>\n",
       "      <th>0</th>\n",
       "      <td>2021-06-30 22:19:51</td>\n",
       "      <td>NaN</td>\n",
       "      <td>Fx-Gutschrift Comp.</td>\n",
       "      <td>NaN</td>\n",
       "      <td>NaN</td>\n",
       "      <td>NaN</td>\n",
       "      <td>1.0</td>\n",
       "      <td>141.34</td>\n",
       "      <td>0.00</td>\n",
       "      <td>0</td>\n",
       "      <td>141.34</td>\n",
       "      <td>USD</td>\n",
       "      <td>141.34</td>\n",
       "      <td>-21.00</td>\n",
       "      <td>USD</td>\n",
       "    </tr>\n",
       "    <tr>\n",
       "      <th>0</th>\n",
       "      <td>2021-06-30 22:19:51</td>\n",
       "      <td>NaN</td>\n",
       "      <td>Fx-Belastung Comp.</td>\n",
       "      <td>NaN</td>\n",
       "      <td>NaN</td>\n",
       "      <td>NaN</td>\n",
       "      <td>1.0</td>\n",
       "      <td>132.00</td>\n",
       "      <td>0.00</td>\n",
       "      <td>0</td>\n",
       "      <td>-132</td>\n",
       "      <td>CHF</td>\n",
       "      <td>-132</td>\n",
       "      <td>0.00</td>\n",
       "      <td>CHF</td>\n",
       "    </tr>\n",
       "    <tr>\n",
       "      <th>0</th>\n",
       "      <td>2021-06-30 20:59:16</td>\n",
       "      <td>NaN</td>\n",
       "      <td>Depotgebühren</td>\n",
       "      <td>NaN</td>\n",
       "      <td>NaN</td>\n",
       "      <td>NaN</td>\n",
       "      <td>1.0</td>\n",
       "      <td>48.00</td>\n",
       "      <td>3.70</td>\n",
       "      <td>0</td>\n",
       "      <td>-51.7</td>\n",
       "      <td>CHF</td>\n",
       "      <td>-51.7</td>\n",
       "      <td>132.00</td>\n",
       "      <td>CHF</td>\n",
       "    </tr>\n",
       "    <tr>\n",
       "      <th>88666265</th>\n",
       "      <td>2021-06-30 19:27:07</td>\n",
       "      <td>NaN</td>\n",
       "      <td>Kauf</td>\n",
       "      <td>NIO</td>\n",
       "      <td>NIO ADS REP 1 CL A ORD</td>\n",
       "      <td>US62914V1061</td>\n",
       "      <td>6.0</td>\n",
       "      <td>53.19</td>\n",
       "      <td>10.33</td>\n",
       "      <td>0</td>\n",
       "      <td>-329.47</td>\n",
       "      <td>USD</td>\n",
       "      <td>-329.47</td>\n",
       "      <td>-162.34</td>\n",
       "      <td>USD</td>\n",
       "    </tr>\n",
       "    <tr>\n",
       "      <th>0</th>\n",
       "      <td>2021-06-30 17:42:12</td>\n",
       "      <td>NaN</td>\n",
       "      <td>Dividende</td>\n",
       "      <td>VJPN</td>\n",
       "      <td>Vanguard Japan ETF Dist</td>\n",
       "      <td>IE00B95PGT31</td>\n",
       "      <td>1.0</td>\n",
       "      <td>69.43</td>\n",
       "      <td>0.00</td>\n",
       "      <td>0</td>\n",
       "      <td>69.43</td>\n",
       "      <td>USD</td>\n",
       "      <td>69.43</td>\n",
       "      <td>167.13</td>\n",
       "      <td>USD</td>\n",
       "    </tr>\n",
       "    <tr>\n",
       "      <th>0</th>\n",
       "      <td>2021-06-29 17:00:42</td>\n",
       "      <td>NaN</td>\n",
       "      <td>Dividende</td>\n",
       "      <td>VTI</td>\n",
       "      <td>VANGUARD TOTAL STOCK MARKET ET</td>\n",
       "      <td>US9229087690</td>\n",
       "      <td>1.0</td>\n",
       "      <td>118.18</td>\n",
       "      <td>35.46</td>\n",
       "      <td>0</td>\n",
       "      <td>82.72</td>\n",
       "      <td>USD</td>\n",
       "      <td>82.72</td>\n",
       "      <td>97.70</td>\n",
       "      <td>USD</td>\n",
       "    </tr>\n",
       "    <tr>\n",
       "      <th>88397267</th>\n",
       "      <td>2021-06-24 09:01:05</td>\n",
       "      <td>NaN</td>\n",
       "      <td>Kauf</td>\n",
       "      <td>VJPN</td>\n",
       "      <td>Vanguard Japan ETF Dist</td>\n",
       "      <td>IE00B95PGT31</td>\n",
       "      <td>21.0</td>\n",
       "      <td>32.89</td>\n",
       "      <td>1.05</td>\n",
       "      <td>0</td>\n",
       "      <td>-691.75</td>\n",
       "      <td>CHF</td>\n",
       "      <td>-691.75</td>\n",
       "      <td>183.70</td>\n",
       "      <td>CHF</td>\n",
       "    </tr>\n",
       "  </tbody>\n",
       "</table>\n",
       "</div>"
      ],
      "text/plain": [
       "                     Auftrag Datum        Transaktionen Symbol  \\\n",
       "0        2021-07-09 11:03:34   NaN                  Buy    ADA   \n",
       "0        2021-07-05 11:22:08   NaN            Dividende   VWRL   \n",
       "0        2021-07-01 13:07:48   NaN            Dividende   VFEM   \n",
       "0        2021-06-30 22:19:51   NaN  Fx-Gutschrift Comp.    NaN   \n",
       "0        2021-06-30 22:19:51   NaN   Fx-Belastung Comp.    NaN   \n",
       "0        2021-06-30 20:59:16   NaN        Depotgebühren    NaN   \n",
       "88666265 2021-06-30 19:27:07   NaN                 Kauf    NIO   \n",
       "0        2021-06-30 17:42:12   NaN            Dividende   VJPN   \n",
       "0        2021-06-29 17:00:42   NaN            Dividende    VTI   \n",
       "88397267 2021-06-24 09:01:05   NaN                 Kauf   VJPN   \n",
       "\n",
       "                                    Name          ISIN  Anzahl  Stueckpreis  \\\n",
       "0                                    ADA  EX0X00ADA000   150.0         1.32   \n",
       "0            Vanguard All World ETF Dist  IE00B3RBWM25     1.0       113.92   \n",
       "0                   Vanguard EM ETF Dist  IE00B3VVMM84     1.0       134.61   \n",
       "0                                    NaN           NaN     1.0       141.34   \n",
       "0                                    NaN           NaN     1.0       132.00   \n",
       "0                                    NaN           NaN     1.0        48.00   \n",
       "88666265          NIO ADS REP 1 CL A ORD  US62914V1061     6.0        53.19   \n",
       "0                Vanguard Japan ETF Dist  IE00B95PGT31     1.0        69.43   \n",
       "0         VANGUARD TOTAL STOCK MARKET ET  US9229087690     1.0       118.18   \n",
       "88397267         Vanguard Japan ETF Dist  IE00B95PGT31    21.0        32.89   \n",
       "\n",
       "          Kosten Aufgelaufene Zinsen Nettobetrag Waehrung Nettobetrag  \\\n",
       "0           1.98                   0     -199.98                  USD   \n",
       "0           0.00                   0      113.92                  USD   \n",
       "0           0.00                   0      134.61                  USD   \n",
       "0           0.00                   0      141.34                  USD   \n",
       "0           0.00                   0        -132                  CHF   \n",
       "0           3.70                   0       -51.7                  CHF   \n",
       "88666265   10.33                   0     -329.47                  USD   \n",
       "0           0.00                   0       69.43                  USD   \n",
       "0          35.46                   0       82.72                  USD   \n",
       "88397267    1.05                   0     -691.75                  CHF   \n",
       "\n",
       "         Nettobetrag in der Waehrung des Kontos   Saldo Waehrung  \n",
       "0                                       -199.98   27.55      USD  \n",
       "0                                        113.92  227.53      USD  \n",
       "0                                        134.61  113.61      USD  \n",
       "0                                        141.34  -21.00      USD  \n",
       "0                                          -132    0.00      CHF  \n",
       "0                                         -51.7  132.00      CHF  \n",
       "88666265                                -329.47 -162.34      USD  \n",
       "0                                         69.43  167.13      USD  \n",
       "0                                         82.72   97.70      USD  \n",
       "88397267                                -691.75  183.70      CHF  "
      ]
     },
     "execution_count": 5,
     "metadata": {},
     "output_type": "execute_result"
    }
   ],
   "source": [
    "sFilename = 'transactions-from-01012010-to-14072021.xlsx'\n",
    "\n",
    "# Set new header names in order to remove Umlaute\n",
    "lst_column_names = ['Auftrag', 'Datum', 'Transaktionen', 'Symbol', 'Name', 'ISIN', 'Anzahl', 'Stueckpreis', 'Kosten','Aufgelaufene Zinsen','Nettobetrag','Waehrung Nettobetrag', 'Nettobetrag in der Waehrung des Kontos','Saldo','Waehrung']\n",
    "\n",
    "# Dataframe initialisieren!\n",
    "df_transactions = pd.DataFrame(columns = lst_column_names)\n",
    "\n",
    "df_transactions = df_transactions.append(pd.read_excel(sFilename, index_col=1, names=lst_column_names))\n",
    "\n",
    "# Dataframe at the end of the cell without print shows the formatted table\n",
    "df_transactions.head(10)"
   ]
  },
  {
   "cell_type": "markdown",
   "metadata": {},
   "source": [
    "<h5>Dividends</h5>"
   ]
  },
  {
   "cell_type": "code",
   "execution_count": 6,
   "metadata": {},
   "outputs": [
    {
     "data": {
      "text/plain": [
       "Jahr  Monat  Symbol\n",
       "2012  3      ROG        22.10\n",
       "      8      AAPL        9.27\n",
       "      11     AAPL        9.27\n",
       "2015  7      SCE        49.77\n",
       "2016  1      SPY5       21.36\n",
       "                        ...  \n",
       "2021  6      MSFT       28.62\n",
       "             VJPN       69.43\n",
       "             VTI        82.72\n",
       "      7      VFEM      134.61\n",
       "             VWRL      113.92\n",
       "Name: Nettobetrag in der Waehrung des Kontos, Length: 94, dtype: float64"
      ]
     },
     "execution_count": 6,
     "metadata": {},
     "output_type": "execute_result"
    }
   ],
   "source": [
    "lst_div_names = ['Jahr', 'Monat', 'Symbol', 'Nettobetrag in der Waehrung des Kontos']\n",
    "df_dividende = pd.DataFrame(columns = lst_div_names)\n",
    "df_dividende = df_dividende.append(df_transactions[df_transactions['Transaktionen'].isin(['Dividende'])])\n",
    "\n",
    "\n",
    "# Nach Datum sortiert - für Monatsübersicht\n",
    "#Create new Columns with Jahr and Monat as extracted from \"Datum\"\n",
    "df_dividende['Jahr'] = pd.DatetimeIndex(df_dividende['Auftrag']).year\n",
    "df_dividende['Monat'] = pd.DatetimeIndex(df_dividende['Auftrag']).month\n",
    "\n",
    "\n",
    "lst_header = ['Jahr', 'Monat', 'Symbol']\n",
    "\n",
    "df_dividende_year_month = df_dividende.groupby(lst_header)['Nettobetrag in der Waehrung des Kontos'].sum()                                                                                                   \n",
    "                                                                                                     \n",
    "#-----------------------------------------\n",
    "# Call Upload: Dividend detail table by month and year\n",
    "#-----------------------------------------\n",
    "#storeDataToGoogleSheet(sGoogleSheet, 'HISTORIC-DATA!M03', df_dividende_year_month, 'COLUMNS', False)\n",
    "\n",
    "df_dividende_year_month"
   ]
  },
  {
   "cell_type": "code",
   "execution_count": 7,
   "metadata": {},
   "outputs": [
    {
     "data": {
      "text/plain": [
       "Symbol\n",
       "AAPL       168.17\n",
       "AMS         38.08\n",
       "AXP         27.39\n",
       "BLV         30.88\n",
       "FCAU      3805.53\n",
       "IBTM        24.72\n",
       "MSFT       116.22\n",
       "NVDA        12.82\n",
       "PGHN       220.35\n",
       "QCOM       101.66\n",
       "ROG       1615.89\n",
       "SCE         49.77\n",
       "SMMCHA     316.92\n",
       "SPY5        43.50\n",
       "STLA       470.85\n",
       "TLT        152.56\n",
       "TSM        141.25\n",
       "VFEM       449.45\n",
       "VJPN        69.43\n",
       "VTI        501.07\n",
       "VWRL       401.46\n",
       "WM          27.86\n",
       "XDJP       140.08\n",
       "Name: Nettobetrag in der Waehrung des Kontos, dtype: float64"
      ]
     },
     "execution_count": 7,
     "metadata": {},
     "output_type": "execute_result"
    }
   ],
   "source": [
    "# df_dividende['Nettobetrag in der Währung des Kontos'] = pd.to_numeric(df_dividende['Nettobetrag in der Waehrung des Kontos'])\n",
    "\n",
    "lst_header = ['Symbol']\n",
    "\n",
    "df_export_dividende_summary = df_dividende.groupby(lst_header)['Nettobetrag in der Waehrung des Kontos'].sum().head(25)\n",
    "\n",
    "#-----------------------------------------\n",
    "# Call Upload: Dividend summary on first page\n",
    "#-----------------------------------------\n",
    "#storeDataToGoogleSheet(sGoogleSheet,'SUMMARY!B56', df_export_dividende_summary, 'COLUMNS', False)\n",
    "\n",
    "df_export_dividende_summary"
   ]
  },
  {
   "cell_type": "markdown",
   "metadata": {},
   "source": [
    "<h5>Costs</h5>"
   ]
  },
  {
   "cell_type": "code",
   "execution_count": 8,
   "metadata": {},
   "outputs": [
    {
     "data": {
      "text/plain": [
       "Transaktionen  Symbol  Jahr  Monat\n",
       "Kauf           AAPL    2012  3        40.34\n",
       "                       2016  2        42.43\n",
       "                       2018  10       35.88\n",
       "                             11       28.37\n",
       "                       2019  1        27.59\n",
       "                                      ...  \n",
       "Verkauf        VTI     2020  3        14.93\n",
       "               WM      2020  9         8.37\n",
       "               XDJP    2020  9        72.02\n",
       "               XMCH    2020  4        46.85\n",
       "               ZM      2020  4         8.39\n",
       "Name: Kosten, Length: 224, dtype: float64"
      ]
     },
     "execution_count": 8,
     "metadata": {},
     "output_type": "execute_result"
    }
   ],
   "source": [
    "df_Kosten_total = pd.DataFrame()\n",
    "df_Kosten_total = df_Kosten_total.append(df_transactions[df_transactions['Transaktionen'].isin(['Kauf', 'Verkauf'])])\n",
    "\n",
    "df_Kosten_total['Jahr'] = pd.DatetimeIndex(df_Kosten_total['Auftrag']).year\n",
    "df_Kosten_total['Monat'] = pd.DatetimeIndex(df_Kosten_total['Auftrag']).month\n",
    "\n",
    "# Final dataframe for costs\n",
    "lst_header_cost = ['Transaktionen','Symbol', 'Jahr', 'Monat']\n",
    "df_export_Kosten_year = df_Kosten_total.groupby(lst_header_cost)['Kosten'].sum()\n",
    "\n",
    "#-----------------------------------------\n",
    "# Call Upload: Cost per asset and month & year\n",
    "#-----------------------------------------\n",
    "#storeDataToGoogleSheet(sGoogleSheet, 'HISTORIC-DATA!A03', df_export_Kosten_year, 'COLUMNS',False)\n",
    "\n",
    "df_export_Kosten_year"
   ]
  },
  {
   "cell_type": "code",
   "execution_count": 9,
   "metadata": {},
   "outputs": [
    {
     "data": {
      "text/plain": [
       "Symbol\n",
       "AAPL    464.58\n",
       "ABNB     68.94\n",
       "ACIC     75.97\n",
       "ACIU     42.40\n",
       "ACWI     71.65\n",
       "         ...  \n",
       "VWRL    114.85\n",
       "WM       87.66\n",
       "XDJP    217.97\n",
       "XMCH    139.50\n",
       "ZM       47.12\n",
       "Name: Kosten, Length: 66, dtype: float64"
      ]
     },
     "execution_count": 9,
     "metadata": {},
     "output_type": "execute_result"
    }
   ],
   "source": [
    "lst_header_cost = ['Symbol']\n",
    "df_export_Kosten_total = df_Kosten_total.groupby(lst_header_cost)['Kosten'].sum()\n",
    "\n",
    "#-----------------------------------------\n",
    "# Call Upload: Cost per asset in total\n",
    "#-----------------------------------------\n",
    "#storeDataToGoogleSheet(sGoogleSheet, 'HISTORIC-DATA!G03', df_export_Kosten_total, 'COLUMNS',False)\n",
    "\n",
    "df_export_Kosten_total"
   ]
  },
  {
   "cell_type": "markdown",
   "metadata": {},
   "source": [
    "<h5>Total Performance</h5>"
   ]
  },
  {
   "cell_type": "code",
   "execution_count": null,
   "metadata": {},
   "outputs": [],
   "source": []
  },
  {
   "cell_type": "markdown",
   "metadata": {},
   "source": [
    "<h3>Historic Performance if buy and hold up to today</h3>"
   ]
  },
  {
   "cell_type": "code",
   "execution_count": 10,
   "metadata": {},
   "outputs": [
    {
     "ename": "NameError",
     "evalue": "name 'df_Performance_assets' is not defined",
     "output_type": "error",
     "traceback": [
      "\u001b[1;31m---------------------------------------------------------------------------\u001b[0m",
      "\u001b[1;31mNameError\u001b[0m                                 Traceback (most recent call last)",
      "\u001b[1;32m<ipython-input-10-e5446b17d26e>\u001b[0m in \u001b[0;36m<module>\u001b[1;34m\u001b[0m\n\u001b[0;32m     16\u001b[0m \u001b[0mdf_performance_alltime_all\u001b[0m \u001b[1;33m=\u001b[0m \u001b[0mpd\u001b[0m\u001b[1;33m.\u001b[0m\u001b[0mDataFrame\u001b[0m\u001b[1;33m(\u001b[0m\u001b[0mdata\u001b[0m\u001b[1;33m=\u001b[0m\u001b[0mdf_Performance_alltime\u001b[0m\u001b[1;33m)\u001b[0m\u001b[1;33m\u001b[0m\u001b[1;33m\u001b[0m\u001b[0m\n\u001b[0;32m     17\u001b[0m \u001b[1;33m\u001b[0m\u001b[0m\n\u001b[1;32m---> 18\u001b[1;33m \u001b[0mdf_performance_alltime_all\u001b[0m\u001b[1;33m[\u001b[0m\u001b[1;34m'Gewinn/Verlust'\u001b[0m\u001b[1;33m]\u001b[0m \u001b[1;33m=\u001b[0m \u001b[0mdf_Performance_assets\u001b[0m\u001b[1;33m\u001b[0m\u001b[1;33m\u001b[0m\u001b[0m\n\u001b[0m\u001b[0;32m     19\u001b[0m \u001b[0mdf_performance_alltime_all\u001b[0m\u001b[1;33m[\u001b[0m\u001b[1;34m'QTY'\u001b[0m\u001b[1;33m]\u001b[0m \u001b[1;33m=\u001b[0m \u001b[0mdf_Performance_qty\u001b[0m\u001b[1;33m\u001b[0m\u001b[1;33m\u001b[0m\u001b[0m\n\u001b[0;32m     20\u001b[0m \u001b[0mdf_performance_alltime_all\u001b[0m\u001b[1;33m\u001b[0m\u001b[1;33m\u001b[0m\u001b[0m\n",
      "\u001b[1;31mNameError\u001b[0m: name 'df_Performance_assets' is not defined"
     ]
    }
   ],
   "source": [
    "df_Performance_alltime = pd.DataFrame()\n",
    "df_Performance_qty = pd.DataFrame()\n",
    "\n",
    "df_Performance_alltime = df_Performance_alltime.append(df_transactions[df_transactions['Transaktionen'].isin(['Kauf'])])\n",
    "\n",
    "lst_header_perf = ['Symbol']\n",
    "\n",
    "df_Performance_qty = df_Performance_qty.append(df_transactions[df_transactions['Transaktionen'].isin(['Kauf'])])\n",
    "df_Performance_qty = df_Performance_qty.groupby(lst_header_perf)['Anzahl'].sum()\n",
    "\n",
    "\n",
    "# Remove tausender Trennzeichen um Kolonne als Zahlenwert beim Summieren zu verewenden\n",
    "df_Performance_alltime = df_Performance_alltime.groupby(lst_header_perf)['Stueckpreis'].mean()\n",
    "df_Performance_alltime\n",
    "\n",
    "df_performance_alltime_all = pd.DataFrame(data=df_Performance_alltime)\n",
    "\n",
    "df_performance_alltime_all['Gewinn/Verlust'] = df_Performance_assets\n",
    "df_performance_alltime_all['QTY'] = df_Performance_qty\n",
    "df_performance_alltime_all"
   ]
  },
  {
   "cell_type": "markdown",
   "metadata": {},
   "source": [
    "<h5>Buy, Sell and Withdrawl Balance - including Crypto</h5>"
   ]
  },
  {
   "cell_type": "code",
   "execution_count": 13,
   "metadata": {},
   "outputs": [
    {
     "data": {
      "text/plain": [
       "Symbol\n",
       "AAPL    150.0\n",
       "ABNB     14.0\n",
       "ACIC    500.0\n",
       "ACIU     38.0\n",
       "ACWI      8.0\n",
       "        ...  \n",
       "VWRL    196.0\n",
       "WM       44.0\n",
       "XDJP    547.0\n",
       "XMCH    500.0\n",
       "ZM       35.0\n",
       "Name: Anzahl, Length: 63, dtype: float64"
      ]
     },
     "execution_count": 13,
     "metadata": {},
     "output_type": "execute_result"
    }
   ],
   "source": [
    "# get current date and format it\n",
    "pUpdateDate = datetime.datetime.now()\n",
    "pDay = pUpdateDate.strftime(\"%A\")\n",
    "pDate = pUpdateDate.strftime(\"%d-%m-%Y | %H:%M:%S\")\n",
    "lst_date = [pDay, pDate]\n",
    "\n",
    "# number of current assets - KAUF / VERKAUF\n",
    "df_numberAssets_k = pd.DataFrame()\n",
    "df_numberAssets_count_k = pd.DataFrame()\n",
    "\n",
    "df_numberAssets_k = df_numberAssets_k.append(df_transactions[df_transactions['Transaktionen'].isin(['Kauf'])])\n",
    "#df_numberAssets_k = df_numberAssets_k[['Symbol','Anzahl']]\n",
    "df_numberAssets_count_k = df_numberAssets_k.groupby('Symbol')['Anzahl'].sum()\n",
    "\n",
    "# Portfolio: Anzahl Positionen KAUF\n",
    "df_numberAssets_count_k\n"
   ]
  },
  {
   "cell_type": "code",
   "execution_count": 14,
   "metadata": {},
   "outputs": [
    {
     "data": {
      "text/plain": [
       "Symbol\n",
       "AUCHAH     124.0\n",
       "BYND        33.0\n",
       "FB          60.0\n",
       "FCAU      2000.0\n",
       "ILMN        20.0\n",
       "NIO         72.0\n",
       "PGHN         8.0\n",
       "PLTR       220.0\n",
       "RBLX        80.0\n",
       "SMMCHA     127.0\n",
       "VFEM       335.0\n",
       "VJPN       320.0\n",
       "VTI        175.0\n",
       "VWRL       196.0\n",
       "Name: Anzahl, dtype: float64"
      ]
     },
     "execution_count": 14,
     "metadata": {},
     "output_type": "execute_result"
    }
   ],
   "source": [
    "df_numberAssets_v = pd.DataFrame()\n",
    "df_numberAssets_count_v = pd.DataFrame()\n",
    "df_current_Portfolio = pd.DataFrame()\n",
    "df_quantity_adjustments = pd.DataFrame({'Symbols': ['FCAU'],'Anzahl': ['2000']})\n",
    "\n",
    "df_numberAssets_v = df_transactions[df_transactions['Transaktionen'].isin(['Verkauf'])]\n",
    "df_numberAssets_v = df_numberAssets_v[['Symbol','Anzahl']]\n",
    "df_numberAssets_count_v = df_numberAssets_v.groupby('Symbol')['Anzahl'].sum()\n",
    "\n",
    "# Aktuelles Portfolio - Fill value = 0\n",
    "df_current_Portfolio = df_numberAssets_count_k.sub(df_numberAssets_count_v,fill_value=0)\n",
    "\n",
    "df_current_Portfolio[df_current_Portfolio >0]\n",
    "\n",
    "#-----------------------------------------\n",
    "# Call Upload: Current Portfolio\n",
    "#-----------------------------------------\n",
    "#storeDataToGoogleSheet(sGoogleSheet, 'HISTORIC-DATA!BU03', df_current_Portfolio, 'COLUMNS', False)\n"
   ]
  },
  {
   "cell_type": "markdown",
   "metadata": {},
   "source": [
    "<h3>Total Performance</h3>"
   ]
  },
  {
   "cell_type": "code",
   "execution_count": 37,
   "metadata": {},
   "outputs": [
    {
     "name": "stdout",
     "output_type": "stream",
     "text": [
      "Symbol\n",
      "AAPL    4179.35\n",
      "ABNB    -254.44\n",
      "ACIC     -80.97\n",
      "ACIU    -130.56\n",
      "ACWI     -82.45\n",
      "         ...   \n",
      "VWRL        NaN\n",
      "WM       359.46\n",
      "XDJP      92.43\n",
      "XMCH     184.60\n",
      "ZM      -338.67\n",
      "Name: Nettobetrag in der Waehrung des Kontos, Length: 66, dtype: float64\n",
      "1:  Empty DataFrame\n",
      "Columns: [Value, Symbol]\n",
      "Index: []\n"
     ]
    },
    {
     "data": {
      "text/plain": [
       "Symbol\n",
       "AAPL    False\n",
       "ABNB    False\n",
       "ACIC    False\n",
       "ACIU    False\n",
       "ACWI    False\n",
       "        ...  \n",
       "VWRL     True\n",
       "WM      False\n",
       "XDJP    False\n",
       "XMCH    False\n",
       "ZM      False\n",
       "Name: Anzahl, Length: 66, dtype: bool"
      ]
     },
     "execution_count": 37,
     "metadata": {},
     "output_type": "execute_result"
    }
   ],
   "source": [
    "df_Performance_assets = pd.DataFrame()\n",
    "df_Performance_buy = pd.DataFrame()\n",
    "df_Performance_sell = pd.DataFrame()\n",
    "\n",
    "df_Performance_buy = df_Performance_buy.append(df_transactions[df_transactions['Transaktionen'].isin(['Kauf'])])\n",
    "\n",
    "lst_header_perf = ['Symbol']\n",
    "\n",
    "# Remove tausender Trennzeichen um Kolonne als Zahlenwert beim Summieren zu verewenden\n",
    "df_Performance_buy = df_Performance_buy.groupby(lst_header_perf)['Nettobetrag in der Waehrung des Kontos'].sum()\n",
    "\n",
    "df_Performance_sell = df_Performance_sell.append(df_transactions[df_transactions['Transaktionen'].isin(['Verkauf'])])\n",
    "\n",
    "# Remove tausender Trennzeichen um Kolonne als Zahlenwert beim Summieren zu verewenden\n",
    "df_Performance_sell['Nettobetrag in der Währung des Kontos'] = df_Performance_sell['Nettobetrag in der Waehrung des Kontos'].replace(\"'\")\n",
    "\n",
    "df_Performance_sell = df_Performance_sell.groupby(lst_header_perf)['Nettobetrag in der Waehrung des Kontos'].sum()\n",
    "\n",
    "df_Performance_assets =  df_Performance_sell - (-df_Performance_buy)\n",
    "print(df_Performance_assets)\n",
    "\n",
    "col_1 = {\"Symbol\",\"Value\"}\n",
    "col_2 = {\"Symbol\",\"Anzahl\"}\n",
    "\n",
    "df_1 = pd.DataFrame(columns=col_1, data=df_Performance_assets)\n",
    "df_2 = pd.DataFrame(columns=col_2, data=df_current_Portfolio)\n",
    "\n",
    "print(\"1: \",df_1)\n",
    "df_2.Anzahl >0\n",
    "#df_Performance_assets = pd.merge(df_Performance_assets,df_current_Portfolio, on='Symbol', how='outer' )\n",
    "\n",
    "\n",
    "#df_Performance_assets.dropna(inplace=True)\n",
    "#-----------------------------------------\n",
    "# Call Upload: Performance per asset\n",
    "#-----------------------------------------\n",
    "#storeDataToGoogleSheet(sGoogleSheet, 'HISTORIC-DATA!R03', df_Performance_assets, 'COLUMNS', False)\n",
    "\n",
    "##********\n",
    "## Noch zum korrigieren - nur Assets welche auch komplett verkauft wurden berücksichtigen - ansonsten sind aktuelle Positionen im Minus\n",
    "##********\n",
    "\n",
    "\n",
    "\n",
    "#df_Performance_assets"
   ]
  },
  {
   "cell_type": "markdown",
   "metadata": {},
   "source": [
    "<h3>CRYPTHO</H3>"
   ]
  },
  {
   "cell_type": "code",
   "execution_count": 103,
   "metadata": {},
   "outputs": [
    {
     "name": "stdout",
     "output_type": "stream",
     "text": [
      "Symbol\n",
      "ADA     2750.000\n",
      "DOGE     530.000\n",
      "ETH        6.162\n",
      "XBT        0.550\n",
      "Name: Anzahl, dtype: float64\n",
      "QTY:  Symbol\n",
      "ADA     2750.000\n",
      "DOGE     530.000\n",
      "ETH        6.162\n",
      "XBT        0.550\n",
      "Name: Anzahl, dtype: float64\n",
      "Calc:  Symbol\n",
      "ADA         1.460775\n",
      "DOGE        0.326226\n",
      "ETH      2090.529049\n",
      "XBT     12867.909091\n",
      "dtype: float64\n"
     ]
    }
   ],
   "source": [
    "# number of current assets - CRYPTHO BUY\n",
    "df_numberAssets_c = pd.DataFrame()\n",
    "df_numberAssets_count_buy = pd.DataFrame()\n",
    "df_numberAssets_c = df_numberAssets_c.append(df_transactions[df_transactions['Transaktionen'].isin(['Buy'])])\n",
    "df_numberAssets_c = df_numberAssets_c[['Symbol','Anzahl']]\n",
    "df_numberAssets_count_buy = df_numberAssets_c.groupby('Symbol')['Anzahl'].sum()\n",
    "\n",
    "print(df_numberAssets_count_buy)\n",
    "\n",
    "# Summe 'Initial Price' noch ausrechnen\n",
    "df_numberAssets_c_nettobetrag = df_transactions[df_transactions['Transaktionen'].isin(['Buy'])]\n",
    "df_numberAssets_c_nettobetrag = df_numberAssets_c_nettobetrag[['Symbol','Anzahl','Nettobetrag']]\n",
    "\n",
    "#  Convert 'Nettobetrag' Column to abs values\n",
    "df_numberAssets_count_c_nettobetrag = df_numberAssets_c_nettobetrag.groupby('Symbol').Nettobetrag.apply(lambda c: c.abs().sum())\n",
    "df_numberAssets_count_c_nettobetrag\n",
    "\n",
    "df_initialPrice = pd.DataFrame()\n",
    "df_initialPrice = df_numberAssets_count_c_nettobetrag.div(df_numberAssets_count_buy, fill_value=1)\n",
    "\n",
    "print(\"QTY: \", df_numberAssets_count_buy)\n",
    "#print(\"Nettobetrag: \", df_numberAssets_count_c_nettobetrag)\n",
    "print(\"Calc: \", df_initialPrice)\n",
    "\n",
    "\n",
    "\n",
    "\n"
   ]
  },
  {
   "cell_type": "code",
   "execution_count": 102,
   "metadata": {},
   "outputs": [
    {
     "name": "stdout",
     "output_type": "stream",
     "text": [
      "KAUF:  Symbol\n",
      "ADA     2750.000\n",
      "DOGE     530.000\n",
      "ETH        6.162\n",
      "XBT        0.550\n",
      "Name: Anzahl, dtype: float64\n",
      "VERKAUF:              Anzahl\n",
      "Symbol            \n",
      "ADA     2000.00000\n",
      "ETH        3.16200\n",
      "XBT        0.38565\n",
      "WITHDRAWL:           Anzahl\n",
      "Symbol         \n",
      "XBT     0.01435\n"
     ]
    }
   ],
   "source": [
    "# Summe 'Nettobetrag' noch ausrechnen\n",
    "df_numberAssets_c_nettobetrag = df_transactions[df_transactions['Transaktionen'].isin(['Buy'])]\n",
    "df_numberAssets_c_nettobetrag = df_numberAssets_c_nettobetrag[['Symbol','Anzahl','Nettobetrag']]\n",
    "\n",
    "#  Convert 'Nettobetrag' Column to abs values\n",
    "df_numberAssets_count_c_nettobetrag = df_numberAssets_c_nettobetrag.groupby('Symbol').Nettobetrag.apply(lambda c: c.abs().sum())\n",
    "\n",
    "#print(\"Nettobetrag Cryptho sum():\", df_numberAssets_count_c_nettobetrag)\n",
    "\n",
    "# number of current assets - CRYPTHO WITHDRAWAL\n",
    "df_numberAssets_w = df_transactions[df_transactions['Transaktionen'].isin(['Withdrawal'])]\n",
    "df_numberAssets_w = df_numberAssets_w[['Symbol','Anzahl']]\n",
    "df_numberAssets_count_w = df_numberAssets_w.groupby('Symbol')['Anzahl'].sum()\n",
    "df_numberAssets_count_w = pd.DataFrame(df_numberAssets_count_w)\n",
    "df_numberAssets_count_w.fillna(\"0\")\n",
    "df_numberAssets_sell = df_transactions[df_transactions['Transaktionen'].isin(['Sell'])]\n",
    "df_numberAssets_sell = df_numberAssets_sell[['Symbol','Anzahl']]\n",
    "df_numberAssets_count_sell = df_numberAssets_sell.groupby('Symbol')['Anzahl'].sum()\n",
    "df_numberAssets_count_sell = pd.DataFrame(df_numberAssets_count_sell)\n",
    "df_numberAssets_count_sell.fillna(\"0\")\n",
    "\n",
    "#df_numberAssets_count_w = df_numberAssets_count_w.add(df_numberAssets_count_sell,fill_value=0) \n",
    "\n",
    "print(\"KAUF: \", df_numberAssets_count_buy)\n",
    "print(\"VERKAUF: \", df_numberAssets_count_sell)\n",
    "print(\"WITHDRAWL: \", df_numberAssets_count_w)\n",
    "\n",
    "#-----------------------------------------\n",
    "# Call Upload: CRYPTHO\n",
    "#-----------------------------------------\n",
    "# Anzahl Assets Kauf CRYPTHO\n",
    "#storeDataToGoogleSheet(sGoogleSheet, 'HISTORIC-DATA!AD03', df_numberAssets_count_buy, 'COLUMNS', False)\n",
    "\n",
    "# Anzahl Assets Verkauf CRYPTHO\n",
    "#storeDataToGoogleSheet(sGoogleSheet, 'HISTORIC-DATA!AG03', df_numberAssets_count_sell, 'COLUMNS', False)\n",
    "\n",
    "# Anzahl Initial Value Kauf CRYPTHO\n",
    "#storeDataToGoogleSheet(sGoogleSheet, 'HISTORIC-DATA!BG03', df_initialPrice, 'COLUMNS', False)\n",
    "\n",
    "# Current Portfolio\n",
    "#storeDataToGoogleSheet(sGoogleSheet, 'HISTORIC-DATA!BC03', df_numberAssets_count_nettobetrag, 'COLUMNS', False)\n"
   ]
  },
  {
   "cell_type": "markdown",
   "metadata": {},
   "source": [
    "<h5>Investment Balance</h5>"
   ]
  },
  {
   "cell_type": "code",
   "execution_count": 82,
   "metadata": {},
   "outputs": [
    {
     "name": "stderr",
     "output_type": "stream",
     "text": [
      "C:\\ProgramData\\Anaconda3\\lib\\site-packages\\ipykernel_launcher.py:3: SettingWithCopyWarning: \n",
      "A value is trying to be set on a copy of a slice from a DataFrame.\n",
      "Try using .loc[row_indexer,col_indexer] = value instead\n",
      "\n",
      "See the caveats in the documentation: https://pandas.pydata.org/pandas-docs/stable/user_guide/indexing.html#returning-a-view-versus-a-copy\n",
      "  This is separate from the ipykernel package so we can avoid doing imports until\n",
      "C:\\ProgramData\\Anaconda3\\lib\\site-packages\\ipykernel_launcher.py:9: SettingWithCopyWarning: \n",
      "A value is trying to be set on a copy of a slice from a DataFrame.\n",
      "Try using .loc[row_indexer,col_indexer] = value instead\n",
      "\n",
      "See the caveats in the documentation: https://pandas.pydata.org/pandas-docs/stable/user_guide/indexing.html#returning-a-view-versus-a-copy\n",
      "  if __name__ == '__main__':\n"
     ]
    },
    {
     "data": {
      "text/plain": [
       "Jahr\n",
       "2011     1160.00\n",
       "2012     4500.00\n",
       "2014    18750.00\n",
       "2015     6500.00\n",
       "2016    10950.00\n",
       "2017     7500.00\n",
       "2018     8000.00\n",
       "2019    33398.27\n",
       "2020    60000.00\n",
       "2021    20000.00\n",
       "Name: Nettobetrag, dtype: float64"
      ]
     },
     "execution_count": 82,
     "metadata": {},
     "output_type": "execute_result"
    }
   ],
   "source": [
    "# EINZAHLUNGEN - 'INVESTMENT' pro Jahr\n",
    "df_sumInvestment = df_transactions[df_transactions['Transaktionen'].isin(['Vergütung'])]\n",
    "df_sumInvestment['Jahr'] = pd.DatetimeIndex(df_sumInvestment.iloc[:,0]).year\n",
    "df_sumInvestment = df_sumInvestment[['Jahr', 'Nettobetrag']]\n",
    "df_sumInvestment_total = df_sumInvestment.groupby('Jahr')['Nettobetrag'].sum()\n",
    "\n",
    "# AUSZAHLUNGEN - 'AUSZAHLUNG' pro Jahr\n",
    "df_sumInvestment_out = df_transactions[df_transactions['Transaktionen'].isin(['Auszahlung'])]\n",
    "df_sumInvestment_out['Jahr'] = pd.DatetimeIndex(df_sumInvestment_out.iloc[:,0]).year\n",
    "df_sumInvestment_out = df_sumInvestment_out[['Jahr', 'Nettobetrag']]\n",
    "df_sumInvestment_out_total = df_sumInvestment_out.groupby('Jahr')['Nettobetrag'].sum()\n",
    "\n",
    "df_sumInvestment_total_net=df_sumInvestment_total.sub(df_sumInvestment_out_total,fill_value=0)\n",
    "\n",
    "#-----------------------------------------\n",
    "# Call Upload: Investments per Year\n",
    "#-----------------------------------------\n",
    "#storeDataToGoogleSheet(sGoogleSheet, 'HISTORIC-DATA!BO03', df_sumInvestment_total_net, 'COLUMNS', False)\n",
    "df_sumInvestment_total\n"
   ]
  },
  {
   "cell_type": "code",
   "execution_count": null,
   "metadata": {},
   "outputs": [],
   "source": []
  },
  {
   "cell_type": "markdown",
   "metadata": {},
   "source": [
    "<h5>Google Sheets Update Function</h5>"
   ]
  },
  {
   "cell_type": "code",
   "execution_count": 12,
   "metadata": {},
   "outputs": [],
   "source": [
    "def storeDataToGoogleSheet(SAMPLE_SPREADSHEET_ID_input, SAMPLE_RANGE_NAME, df_gold, sOrientation, bSingleValue):\n",
    "    def Create_Service(client_secret_file, api_service_name, api_version, *scopes):\n",
    "        global service\n",
    "        SCOPES = [scope for scope in scopes[0]]\n",
    "        #print(SCOPES)\n",
    "        cred = None\n",
    "\n",
    "        if os.path.exists('token_write.pickle'):\n",
    "            with open('token_write.pickle', 'rb') as token:\n",
    "                cred = pickle.load(token)\n",
    "\n",
    "        if not cred or not cred.valid:\n",
    "            if cred and cred.expired and cred.refresh_token:\n",
    "                cred.refresh(Request())\n",
    "            else:\n",
    "                flow = InstalledAppFlow.from_client_secrets_file(client_secret_file, SCOPES)\n",
    "                cred = flow.run_local_server()\n",
    "\n",
    "            with open('token_write.pickle', 'wb') as token:\n",
    "                pickle.dump(cred, token)\n",
    "\n",
    "        try:\n",
    "            service = build(api_service_name, api_version, credentials=cred)\n",
    "            print(api_service_name, 'service created successfully')\n",
    "            #return service\n",
    "        except Exception as e:\n",
    "            print(e)\n",
    "            #return None\n",
    "\n",
    "    # change 'my_json_file.json' by your downloaded JSON file: my_credentials.json\n",
    "    Create_Service('my_credentials.json', 'sheets', 'v4',['https://www.googleapis.com/auth/spreadsheets'])\n",
    "\n",
    "    if(bSingleValue):\n",
    "        def SingleValue_Export_Data_To_Sheets():\n",
    "            response_date = service.spreadsheets().values().update(\n",
    "                spreadsheetId=SAMPLE_SPREADSHEET_ID_input,\n",
    "                valueInputOption='RAW',\n",
    "                range=SAMPLE_RANGE_NAME,\n",
    "                body=dict(\n",
    "                    #Orientation: ROWS oder COLUMNS\n",
    "                    majorDimension=sOrientation,\n",
    "                    values=df_gold.T.reset_index().T.values.tolist())\n",
    "            ).execute()\n",
    "            print('Sheet successfully Updated')\n",
    "        SingleValue_Export_Data_To_Sheets()\n",
    "    else:\n",
    "        def Export_Data_To_Sheets():\n",
    "            response_date = service.spreadsheets().values().update(\n",
    "                spreadsheetId=SAMPLE_SPREADSHEET_ID_input,\n",
    "                valueInputOption='RAW',\n",
    "                range=SAMPLE_RANGE_NAME,\n",
    "                body=dict(\n",
    "                    #Orientation: ROWS oder COLUMNS\n",
    "                    majorDimension=sOrientation,\n",
    "                    values=df_gold.T.reset_index().T.values.tolist())\n",
    "            ).execute()\n",
    "            print('Sheet successfully Updated')\n",
    "        Export_Data_To_Sheets()"
   ]
  },
  {
   "cell_type": "code",
   "execution_count": null,
   "metadata": {},
   "outputs": [],
   "source": [
    "\n",
    "    "
   ]
  },
  {
   "cell_type": "markdown",
   "metadata": {},
   "source": [
    "<h5>Google Function Call</h5>"
   ]
  },
  {
   "cell_type": "code",
   "execution_count": 13,
   "metadata": {},
   "outputs": [
    {
     "name": "stdout",
     "output_type": "stream",
     "text": [
      "sheets service created successfully\n"
     ]
    },
    {
     "ename": "TypeError",
     "evalue": "unsupported operand type(s) for &: 'str' and 'str'",
     "output_type": "error",
     "traceback": [
      "\u001b[0;31m---------------------------------------------------------------------------\u001b[0m",
      "\u001b[0;31mTypeError\u001b[0m                                 Traceback (most recent call last)",
      "\u001b[0;32m<ipython-input-13-a235437cb05c>\u001b[0m in \u001b[0;36m<module>\u001b[0;34m\u001b[0m\n\u001b[1;32m      1\u001b[0m \u001b[0;31m# Dividend summary\u001b[0m\u001b[0;34m\u001b[0m\u001b[0;34m\u001b[0m\u001b[0;34m\u001b[0m\u001b[0m\n\u001b[0;32m----> 2\u001b[0;31m \u001b[0mstoreDataToGoogleSheet\u001b[0m\u001b[0;34m(\u001b[0m\u001b[0msGoogleSheet\u001b[0m\u001b[0;34m,\u001b[0m \u001b[0;34m'SUMMARY!B56'\u001b[0m\u001b[0;34m,\u001b[0m \u001b[0mdf_export_dividende\u001b[0m\u001b[0;34m,\u001b[0m \u001b[0;34m'COLUMNS'\u001b[0m\u001b[0;34m,\u001b[0m \u001b[0;32mFalse\u001b[0m\u001b[0;34m)\u001b[0m\u001b[0;34m\u001b[0m\u001b[0;34m\u001b[0m\u001b[0m\n\u001b[0m\u001b[1;32m      3\u001b[0m \u001b[0;34m\u001b[0m\u001b[0m\n\u001b[1;32m      4\u001b[0m \u001b[0;31m# Date & time stamp of update\u001b[0m\u001b[0;34m\u001b[0m\u001b[0;34m\u001b[0m\u001b[0;34m\u001b[0m\u001b[0m\n\u001b[1;32m      5\u001b[0m \u001b[0;31m#storeDataToGoogleSheet(sGoogleSheet, 'SUMMARY!C02', lst_date, 'ROWS', True)\u001b[0m\u001b[0;34m\u001b[0m\u001b[0;34m\u001b[0m\u001b[0;34m\u001b[0m\u001b[0m\n",
      "\u001b[0;32m<ipython-input-12-2f382b026ec9>\u001b[0m in \u001b[0;36mstoreDataToGoogleSheet\u001b[0;34m(SAMPLE_SPREADSHEET_ID_input, SAMPLE_RANGE_NAME, df_gold, sOrientation, bSingleValue)\u001b[0m\n\u001b[1;32m     56\u001b[0m             ).execute()\n\u001b[1;32m     57\u001b[0m             \u001b[0mprint\u001b[0m\u001b[0;34m(\u001b[0m\u001b[0;34m'Sheet'\u001b[0m\u001b[0;34m&\u001b[0m\u001b[0mdf_gold\u001b[0m\u001b[0;34m.\u001b[0m\u001b[0mname\u001b[0m \u001b[0;34m&\u001b[0m\u001b[0;34m'successfully Updated'\u001b[0m\u001b[0;34m)\u001b[0m\u001b[0;34m\u001b[0m\u001b[0;34m\u001b[0m\u001b[0m\n\u001b[0;32m---> 58\u001b[0;31m         \u001b[0mExport_Data_To_Sheets\u001b[0m\u001b[0;34m(\u001b[0m\u001b[0;34m)\u001b[0m\u001b[0;34m\u001b[0m\u001b[0;34m\u001b[0m\u001b[0m\n\u001b[0m",
      "\u001b[0;32m<ipython-input-12-2f382b026ec9>\u001b[0m in \u001b[0;36mExport_Data_To_Sheets\u001b[0;34m()\u001b[0m\n\u001b[1;32m     55\u001b[0m                     values=df_gold.T.reset_index().T.values.tolist())\n\u001b[1;32m     56\u001b[0m             ).execute()\n\u001b[0;32m---> 57\u001b[0;31m             \u001b[0mprint\u001b[0m\u001b[0;34m(\u001b[0m\u001b[0;34m'Sheet'\u001b[0m\u001b[0;34m&\u001b[0m\u001b[0mdf_gold\u001b[0m\u001b[0;34m.\u001b[0m\u001b[0mname\u001b[0m \u001b[0;34m&\u001b[0m\u001b[0;34m'successfully Updated'\u001b[0m\u001b[0;34m)\u001b[0m\u001b[0;34m\u001b[0m\u001b[0;34m\u001b[0m\u001b[0m\n\u001b[0m\u001b[1;32m     58\u001b[0m         \u001b[0mExport_Data_To_Sheets\u001b[0m\u001b[0;34m(\u001b[0m\u001b[0;34m)\u001b[0m\u001b[0;34m\u001b[0m\u001b[0;34m\u001b[0m\u001b[0m\n",
      "\u001b[0;31mTypeError\u001b[0m: unsupported operand type(s) for &: 'str' and 'str'"
     ]
    }
   ],
   "source": [
    "\n",
    "\n",
    "# Date & time stamp of update\n",
    "#storeDataToGoogleSheet(sGoogleSheet, 'SUMMARY!C02', lst_date, 'ROWS', True)\n",
    "\n",
    "\n",
    "\n",
    "\n",
    "\n",
    "# Performance calculation buy & sell price\n",
    "storeDataToGoogleSheet(sGoogleSheet, 'HISTORIC-DATA!R03', df_export_performance_values, 'COLUMNS', False)\n",
    "\n",
    "\n",
    "# Anzahl Assets Kauf\n",
    "storeDataToGoogleSheet(sGoogleSheet, 'HISTORIC-DATA!X03', df_numberAssets_count_k, 'COLUMNS', False)\n",
    "\n",
    "# Anzahl Assets Verkauf\n",
    "storeDataToGoogleSheet(sGoogleSheet, 'HISTORIC-DATA!AA03', df_numberAssets_count_v, 'COLUMNS', False)\n",
    "\n",
    "\n",
    "\n",
    "\n",
    "\n",
    "# Auszahlungen pro Jahr\n",
    "storeDataToGoogleSheet(sGoogleSheet, 'HISTORIC-DATA!BR03', df_sumInvestment_out_total, 'COLUMNS', False)\n",
    "\n"
   ]
  },
  {
   "cell_type": "markdown",
   "metadata": {},
   "source": [
    "<h3>AlleAktien Freiheitsfonds Import</h3>"
   ]
  },
  {
   "cell_type": "code",
   "execution_count": null,
   "metadata": {},
   "outputs": [],
   "source": []
  },
  {
   "cell_type": "markdown",
   "metadata": {},
   "source": [
    "<h3>Chart Creation</h3>"
   ]
  },
  {
   "cell_type": "code",
   "execution_count": null,
   "metadata": {},
   "outputs": [],
   "source": []
  }
 ],
 "metadata": {
  "kernelspec": {
   "display_name": "Python 3",
   "language": "python",
   "name": "python3"
  },
  "language_info": {
   "codemirror_mode": {
    "name": "ipython",
    "version": 3
   },
   "file_extension": ".py",
   "mimetype": "text/x-python",
   "name": "python",
   "nbconvert_exporter": "python",
   "pygments_lexer": "ipython3",
   "version": "3.7.3"
  }
 },
 "nbformat": 4,
 "nbformat_minor": 4
}
